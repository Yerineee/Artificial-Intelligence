{
  "nbformat": 4,
  "nbformat_minor": 0,
  "metadata": {
    "colab": {
      "name": "1971014.ipynb",
      "provenance": [],
      "collapsed_sections": []
    },
    "kernelspec": {
      "name": "python3",
      "display_name": "Python 3"
    },
    "language_info": {
      "name": "python"
    },
    "accelerator": "GPU",
    "gpuClass": "standard"
  },
  "cells": [
    {
      "cell_type": "code",
      "execution_count": 33,
      "metadata": {
        "id": "m0frT8U0ELJq"
      },
      "outputs": [],
      "source": [
        "import tensorflow as tf\n",
        "from tensorflow.keras import layers\n",
        "from IPython import display\n",
        "import matplotlib.pyplot as plt\n",
        "import glob\n",
        "import numpy as np\n",
        "import os\n",
        "import PIL\n",
        "import time"
      ]
    },
    {
      "cell_type": "code",
      "source": [
        "# mnist 데이터 로드하기 (training 이미지만 필요하므로 test 이미지는 생략)\n",
        "from tensorflow.keras.datasets import fashion_mnist\n",
        "(train_images, train_labels), (_, _) = fashion_mnist.load_data()\n",
        "\n",
        "# input shape를 reshape 해주기\n",
        "train_images = train_images.reshape(train_images.shape[0], 28, 28, 1).astype('float32')\n",
        "\n",
        "# image normalize 해주기\n",
        "train_images = (train_images - 127.5) / 127.5"
      ],
      "metadata": {
        "id": "Vg95VhwyEV99"
      },
      "execution_count": 34,
      "outputs": []
    },
    {
      "cell_type": "code",
      "source": [
        "# Sample size, batch size 설정하기\n",
        "BUFFER_SIZE = 60000\n",
        "BATCH_SIZE = 256\n",
        "\n",
        "# training 시 이용할 데이터 형성해주기 (training 이미지를 shuffle해주고, batch size로 자르기)\n",
        "train_dataset = tf.data.Dataset.from_tensor_slices(train_images).shuffle(BUFFER_SIZE).batch(BATCH_SIZE)"
      ],
      "metadata": {
        "id": "MBfdmpmZEXPF"
      },
      "execution_count": 35,
      "outputs": []
    },
    {
      "cell_type": "code",
      "source": [
        "# Generator model function 만들기\n",
        "def make_generator_model():\n",
        "    model = tf.keras.Sequential()\n",
        "\n",
        "    # Dense layer (flat해서 input으로 받음)\n",
        "    model.add(layers.Dense(7*7*256, use_bias=False, input_shape=(100,)))\n",
        "    # Batch normalization 수행\n",
        "    model.add(layers.BatchNormalization())\n",
        "    # Activation function : LeakyReLU 사용\n",
        "    model.add(layers.LeakyReLU())\n",
        "\n",
        "    # flatten된 것을 이미지 형태로 다시 reshape\n",
        "    model.add(layers.Reshape((7, 7, 256)))\n",
        "    \n",
        "    # upsampling 수행 (이미지 크기 키우기)\n",
        "    model.add(layers.Conv2DTranspose(128, (5, 5), strides=(1, 1), padding='same', use_bias=False))\n",
        "    # Batch normalization 수행\n",
        "    model.add(layers.BatchNormalization())\n",
        "    # Activation function : LeakyReLU 사용\n",
        "    model.add(layers.LeakyReLU())\n",
        "\n",
        "    # unsampling 다시 수행\n",
        "    model.add(layers.Conv2DTranspose(64, (5, 5), strides=(2, 2), padding='same', use_bias=False))\n",
        "    # Batch normalization 수행 \n",
        "    model.add(layers.BatchNormalization())\n",
        "    # Activation function : LeakyReLU 사용\n",
        "    model.add(layers.LeakyReLU())\n",
        "\n",
        "    # upsampling 다시 수행 (크기 28*28*1)\n",
        "    # 원래 이미지는 channel size가 1이므로 \n",
        "    model.add(layers.Conv2DTranspose(1, (5, 5), strides=(2, 2), padding='same', use_bias=False, activation='tanh'))\n",
        "\n",
        "    return model"
      ],
      "metadata": {
        "id": "OMYbQLtBEYwT"
      },
      "execution_count": 36,
      "outputs": []
    },
    {
      "cell_type": "code",
      "source": [
        "# Generator model 만들기\n",
        "generator = make_generator_model()\n",
        "\n",
        "# 100개의 noise 넣기\n",
        "noise = tf.random.normal([1, 100])\n",
        "# training이 아니라 inference하기\n",
        "generated_image = generator(noise, training=False)\n",
        "\n",
        "# 나온 이미지 보여주기\n",
        "plt.imshow(generated_image[0, :, :, 0], cmap='gray')"
      ],
      "metadata": {
        "colab": {
          "base_uri": "https://localhost:8080/",
          "height": 283
        },
        "id": "7vJtExToEaqf",
        "outputId": "95113882-159f-4c65-a977-025e126b1485"
      },
      "execution_count": 37,
      "outputs": [
        {
          "output_type": "execute_result",
          "data": {
            "text/plain": [
              "<matplotlib.image.AxesImage at 0x7f7ad2e4d490>"
            ]
          },
          "metadata": {},
          "execution_count": 37
        },
        {
          "output_type": "display_data",
          "data": {
            "text/plain": [
              "<Figure size 432x288 with 1 Axes>"
            ],
            "image/png": "[encoded data removed]"
          },
          "metadata": {
            "needs_background": "light"
          }
        }
      ]
    },
    {
      "cell_type": "code",
      "source": [
        "# Discriminator model function 만들기\n",
        "def make_discriminator_model():\n",
        "    model = tf.keras.Sequential()\n",
        "\n",
        "    # convolution 수행\n",
        "    model.add(layers.Conv2D(64, (5, 5), strides=(2, 2), padding='same',\n",
        "                                     input_shape=[28, 28, 1]))\n",
        "    # Activation function 수행\n",
        "    model.add(layers.LeakyReLU())\n",
        "    # Dropout 수행\n",
        "    model.add(layers.Dropout(0.3))\n",
        "\n",
        "    # convolution 수행\n",
        "    model.add(layers.Conv2D(128, (5, 5), strides=(2, 2), padding='same'))\n",
        "    # Activation function 수행\n",
        "    model.add(layers.LeakyReLU())\n",
        "    # Dropout 수행\n",
        "    model.add(layers.Dropout(0.3))\n",
        "\n",
        "    # 1D로 flatten\n",
        "    model.add(layers.Flatten())\n",
        "    # Dense layer\n",
        "    model.add(layers.Dense(1))\n",
        "\n",
        "    return model"
      ],
      "metadata": {
        "id": "grYjAcKUEcao"
      },
      "execution_count": 38,
      "outputs": []
    },
    {
      "cell_type": "code",
      "source": [
        "# discriminator 만들기\n",
        "discriminator = make_discriminator_model()\n",
        "# 이미지가 real인지 여부를 실험해보기\n",
        "decision = discriminator(generated_image)\n",
        "# 결과 출력\n",
        "print (decision)"
      ],
      "metadata": {
        "colab": {
          "base_uri": "https://localhost:8080/"
        },
        "id": "LEgu4Y-2Ed9C",
        "outputId": "31d66488-d6f2-40f2-b10f-602d83f731f0"
      },
      "execution_count": 39,
      "outputs": [
        {
          "output_type": "stream",
          "name": "stdout",
          "text": [
            "tf.Tensor([[0.00063601]], shape=(1, 1), dtype=float32)\n"
          ]
        }
      ]
    },
    {
      "cell_type": "code",
      "source": [
        "# loss function 정의하기\n",
        "cross_entropy = tf.keras.losses.BinaryCrossentropy(from_logits=True)"
      ],
      "metadata": {
        "id": "qWqn75a-EfPq"
      },
      "execution_count": 40,
      "outputs": []
    },
    {
      "cell_type": "code",
      "source": [
        "# Discriminator loss 정의하기\n",
        "def discriminator_loss(real_output, fake_output):\n",
        "    # 1과 비교해서 real image loss 생성\n",
        "    real_loss = cross_entropy(tf.ones_like(real_output), real_output)\n",
        "    # 0과 비교해서 fake image loss 생성\n",
        "    fake_loss = cross_entropy(tf.zeros_like(fake_output), fake_output)\n",
        "    # 총 loss는 위의 두가지 더한 값\n",
        "    # discriminator는 이 loss를 minimize함\n",
        "    total_loss = real_loss + fake_loss\n",
        "    return total_loss"
      ],
      "metadata": {
        "id": "l3zfK--OEgle"
      },
      "execution_count": 41,
      "outputs": []
    },
    {
      "cell_type": "code",
      "source": [
        "# Generator loss 정의하기\n",
        "def generator_loss(fake_output):\n",
        "    # 1과 비교해서 fake output loss 생성\n",
        "    return cross_entropy(tf.ones_like(fake_output), fake_output)"
      ],
      "metadata": {
        "id": "iE3cOlD_Eh-8"
      },
      "execution_count": 42,
      "outputs": []
    },
    {
      "cell_type": "code",
      "source": [
        "# generator과 discriminator의 optimizer 지정하기\n",
        "generator_optimizer = tf.keras.optimizers.Adam(1e-4)\n",
        "discriminator_optimizer = tf.keras.optimizers.Adam(1e-4)"
      ],
      "metadata": {
        "id": "W0RdFLSAEjqq"
      },
      "execution_count": 43,
      "outputs": []
    },
    {
      "cell_type": "code",
      "source": [
        "# training을 위한 epochs, noise dimension, sample 개수 설정\n",
        "EPOCHS = 50\n",
        "noise_dim = 100\n",
        "num_examples_to_generate = 16\n",
        "\n",
        "# seed 만들기\n",
        "seed = tf.random.normal([num_examples_to_generate, noise_dim])"
      ],
      "metadata": {
        "id": "THSUUa88Eko6"
      },
      "execution_count": 44,
      "outputs": []
    },
    {
      "cell_type": "code",
      "source": [
        "# 학습을 위한 함수 만들기\n",
        "@tf.function\n",
        "def train_step(images):\n",
        "    # 학습을 위한 noise를 만들기\n",
        "    noise = tf.random.normal([BATCH_SIZE, noise_dim])\n",
        "\n",
        "    # 두개의 gradient tape 만들기\n",
        "    with tf.GradientTape() as gen_tape, tf.GradientTape() as disc_tape:\n",
        "      # generator 통해서 image 만들기\n",
        "      generated_images = generator(noise, training=True)\n",
        "\n",
        "      # discriminator에 real image와 generator가 생성한 image 넣기\n",
        "      real_output = discriminator(images, training=True)\n",
        "      fake_output = discriminator(generated_images, training=True)\n",
        "\n",
        "      # generator와 discriminator loss 구하기\n",
        "      gen_loss = generator_loss(fake_output)\n",
        "      disc_loss = discriminator_loss(real_output, fake_output)\n",
        "\n",
        "    # backpropagation\n",
        "    # generator과 discriminator의 gradient 계산하기\n",
        "    gradients_of_generator = gen_tape.gradient(gen_loss, generator.trainable_variables)\n",
        "    gradients_of_discriminator = disc_tape.gradient(disc_loss, discriminator.trainable_variables)\n",
        "\n",
        "    # generator와 discriminator 각각 optimizer에서 정해준대로 weight 업데이트 수행하기\n",
        "    generator_optimizer.apply_gradients(zip(gradients_of_generator, generator.trainable_variables))\n",
        "    discriminator_optimizer.apply_gradients(zip(gradients_of_discriminator, discriminator.trainable_variables))"
      ],
      "metadata": {
        "id": "46lYSUoNEl8B"
      },
      "execution_count": 45,
      "outputs": []
    },
    {
      "cell_type": "code",
      "source": [
        "# training loop 만들기\n",
        "def train(dataset, epochs):\n",
        "  # epoch에 대한 loop\n",
        "  for epoch in range(epochs):\n",
        "    # 1개의 epoch 당 걸리는 시간 측정하기\n",
        "    start = time.time()\n",
        "\n",
        "    # batch마다 training 진행\n",
        "    for image_batch in dataset:\n",
        "      train_step(image_batch)\n",
        "\n",
        "    # epoch 시간 출력하기\n",
        "    print ('Time for epoch {} is {} sec'.format(epoch + 1, time.time()-start))\n",
        "\n",
        "  display.clear_output(wait=True)\n",
        "  # generator에 output을 넣어서 실제 이미지가 어떻게 생성되는지 보기\n",
        "  generate_and_save_images(generator,\n",
        "                           epochs,\n",
        "                           seed)"
      ],
      "metadata": {
        "id": "LqogB-p6EnK9"
      },
      "execution_count": 46,
      "outputs": []
    },
    {
      "cell_type": "code",
      "source": [
        "# generator가 생성한 이미지 보기\n",
        "def generate_and_save_images(model, epoch, test_input):\n",
        "  # training한 것을 predict\n",
        "  predictions = model(test_input, training=False)\n",
        "  \n",
        "  # 해당 이미지 출력하기\n",
        "  fig = plt.figure(figsize=(4,4))\n",
        "\n",
        "  for i in range(predictions.shape[0]):\n",
        "      plt.subplot(4, 4, i+1)\n",
        "      plt.imshow(predictions[i, :, :, 0] * 127.5 + 127.5, cmap='gray')\n",
        "      plt.axis('off')\n",
        "\n",
        "  plt.show()"
      ],
      "metadata": {
        "id": "iht-cL-oEoW6"
      },
      "execution_count": 47,
      "outputs": []
    },
    {
      "cell_type": "code",
      "source": [
        "# training 수행하고 생성한 이미지 보기\n",
        "train(train_dataset, EPOCHS)"
      ],
      "metadata": {
        "colab": {
          "base_uri": "https://localhost:8080/",
          "height": 248
        },
        "id": "PH4s-61kEphR",
        "outputId": "bc2fd9ae-c52a-4c3b-ce9c-67c3838310ea"
      },
      "execution_count": 48,
      "outputs": [
        {
          "output_type": "display_data",
          "data": {
            "text/plain": [
              "<Figure size 288x288 with 16 Axes>"
            ],
            "image/png": "[encoded data removed]"
          },
          "metadata": {
            "needs_background": "light"
          }
        }
      ]
    }
  ]
}