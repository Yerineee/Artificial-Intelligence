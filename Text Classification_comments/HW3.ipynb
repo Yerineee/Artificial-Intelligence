{
  "cells": [
    {
      "cell_type": "code",
      "execution_count": null,
      "metadata": {
        "id": "c99vZqnbXF9u"
      },
      "outputs": [],
      "source": [
        "# 필요한 라이브러리 불러오기\n",
        "import numpy as np\n",
        "\n",
        "import tensorflow_datasets as tfds\n",
        "import tensorflow as tf"
      ]
    },
    {
      "cell_type": "markdown",
      "source": [
        "### 함수 정의(그래프 그리기 위함)"
      ],
      "metadata": {
        "id": "sIp6_E68NRE1"
      }
    },
    {
      "cell_type": "code",
      "execution_count": null,
      "metadata": {
        "id": "h_QSequDYVBv"
      },
      "outputs": [],
      "source": [
        "# 그래프 그리기 위한 라이브러리 불러오기\n",
        "import matplotlib.pyplot as plt\n",
        "\n",
        "# 그래프 그리기 위한 함수 정의하기\n",
        "def plot_graphs(history, metric):\n",
        "  plt.plot(history.history[metric])\n",
        "  plt.plot(history.history['val_'+metric], '')\n",
        "  plt.xlabel(\"Epochs\")\n",
        "  plt.ylabel(metric)\n",
        "  plt.legend([metric, 'val_'+metric])"
      ]
    },
    {
      "cell_type": "markdown",
      "source": [
        "### 학습/테스트 데이터셋 준비하기 (지도학습 - 라벨, 텍스트 쌍 이용)"
      ],
      "metadata": {
        "id": "wPgsLy0-NY_7"
      }
    },
    {
      "cell_type": "code",
      "execution_count": null,
      "metadata": {
        "id": "AkgLs5O1YotF"
      },
      "outputs": [],
      "source": [
        "# IMDB movie review 데이터셋 준비 (지도학습 이용)\n",
        "dataset, info = tfds.load('imdb_reviews', with_info = True, as_supervised=True)\n",
        "\n",
        "# 학습 데이터셋과 테스트 데이터셋으로 나누기\n",
        "train_dataset, test_dataset = dataset['train'], dataset['test']"
      ]
    },
    {
      "cell_type": "code",
      "execution_count": null,
      "metadata": {
        "id": "pf0EHQNHZCQR",
        "colab": {
          "base_uri": "https://localhost:8080/"
        },
        "outputId": "851c2d08-afcd-431a-e192-e39ff3523641"
      },
      "outputs": [
        {
          "output_type": "stream",
          "name": "stdout",
          "text": [
            "text:  b\"This was an absolutely terrible movie. Don't be lured in by Christopher Walken or Michael Ironside. Both are great actors, but this must simply be their worst role in history. Even their great acting could not redeem this movie's ridiculous storyline. This movie is an early nineties US propaganda piece. The most pathetic scenes were those when the Columbian rebels were making their cases for revolutions. Maria Conchita Alonso appeared phony, and her pseudo-love affair with Walken was nothing but a pathetic emotional plug in a movie that was devoid of any real meaning. I am disappointed that there are movies like this, ruining actor's like Christopher Walken's good name. I could barely sit through it.\"\n",
            "label:  0\n"
          ]
        }
      ],
      "source": [
        "# 학습 데이터셋의 text와 label 출력해보기\n",
        "for example, label in train_dataset.take(1):\n",
        "  print('text: ', example.numpy())\n",
        "  print('label: ', label.numpy())"
      ]
    },
    {
      "cell_type": "code",
      "execution_count": null,
      "metadata": {
        "id": "myloxzrQaxlg"
      },
      "outputs": [],
      "source": [
        "# buffer와 batch 사이즈 각각 10000, 64로 설정하기\n",
        "BUFFER_SIZE = 10000\n",
        "BATCH_SIZE = 64"
      ]
    },
    {
      "cell_type": "code",
      "execution_count": null,
      "metadata": {
        "id": "mx1HA4axa0rV"
      },
      "outputs": [],
      "source": [
        "# 학습 데이터셋 섞어주고 묶음(batch) 만들어주기\n",
        "train_dataset = train_dataset.shuffle(BUFFER_SIZE).batch(BATCH_SIZE).prefetch(tf.data.AUTOTUNE)\n",
        "\n",
        "# 테스트 데이터셋 묶음(batch) 만들어주기\n",
        "test_dataset = test_dataset.batch(BATCH_SIZE).prefetch(tf.data.AUTOTUNE)"
      ]
    },
    {
      "cell_type": "code",
      "execution_count": null,
      "metadata": {
        "id": "xXDfQF2ua173",
        "colab": {
          "base_uri": "https://localhost:8080/"
        },
        "outputId": "7a5a5527-598d-4e8f-b2b5-0dc10d8bf187"
      },
      "outputs": [
        {
          "output_type": "stream",
          "name": "stdout",
          "text": [
            "texts:  [b'Admittedly, Parsifal is not an opera that can appeal to everyone, although it is a favourite of mine, Knappertsbusch, 1951, in particular. Syberberg\\'s entire approach is so static. Whenever the music suddenly begins to swell ... Syberberg keeps the cast moving at the same pace. The takes on Amfortas and Klingsor are endless. Whatever happened to film editing? The result is physically exhausting to watch. The viewer is never spiritually transported. Your impulse is to rush home and play a recording again to confirm that Wagner got it right, Syberberg got it wrong. And that set decoration with those \"clever\" reminders of Wagner\\'s anti-Semitism -- will there ever be a viewer of this film with no prior knowledge of Wagner?'\n",
            " b\"As a kid, I loved this game. I played it a zillion times during Spring 1993 with my friend Andrew. I used to play Axel or Blaze and he would be Adam and no matter how often we played it we never seemed to get bored. Then Streets of Rage 2 came out. And we quickly forgot that this one even existed.<br /><br />You play as ex-cops Axel Stone, Adam or Blaze Fielding, who have quit the force in order to take on the bad guys in their own way. There are 8 levels to work thru in a run-down and corrupt city led by the evil Mr X. Beating up all the bad guys and the end-of-level boss is much fun. Level 4 (The Bridge) was my fave because you could chuck baddies down the holes into the river. You even have the chance to become Mr. X's right hand man at the end of the game (at a price). This leads to the 'bad ending' in which you become the the boss of the syndicate. Exactly how this is possible is a mystery since you destroy the syndicate on your way to Mr. X, but never mind.<br /><br />Streets of Rage also has truly fantastic music. The composer Yuzo Koshiro did absolute miracles with the limited technology of the Sega Genesis. The main theme, Level One, Level 4 and Final Boss are standout tunes. <br /><br />As a Wii owner I am proud to have this forever on my console. But with Streets of Rage 2 also available, it does kind of render the first one somewhat obsolete.<br /><br />Pros:<br /><br />Average graphics but nice backgrounds represented in a comic-book like panel progression that fits the tone of the game.<br /><br />Great tunes.<br /><br />Easy to get into and hard to put down.<br /><br />Cons:<br /><br />Vastly inferior to the infinitely more complex Streets of Rage 2.<br /><br />Poor enemy AI. Baddies often walk away from you instead of engaging in combat. This is especially infuriating with the Level 5 boss.<br /><br />Lack of combo moves.<br /><br />Lack of decent weapons.<br /><br />Bad guy models are repeated far too often.<br /><br />Graphics B- Sound A- Gameplay B- Lasting Appeal B-\"\n",
            " b'I did not have too much interest in watching The Flock.Andrew Lau co-directed the masterpiece trilogy of Infernal Affairs but he had been fired from The Flock and he had been replaced by an emergency director called Niels Mueller.I had the feeling that Lau had made a good film but it had not satisfied the study,so they fired him and hired another director.This usually does not work well (let\\'s remember The Invasion).But The Flock resulted to be better than what I expected.It\\'s not a great film but it\\'s an interesting and entertaining thriller.The character development is very well done and I could know the characters very well.Also,the relationship between the two main characters is natural and credible.Richard Gere and Claire Danes bring competent performances.Now,let\\'s go to the negative points.One element which really bothered me (there was a moment in which it irritated me) was the excess of edition tricks to give the movie more \"attitude\" and style.That tricks feel out of place and their presence is arbitrary.Plus,I think the film should have been more ambitious.In spite of that,I recommend The Flock as a good thriller.It\\'s not memorable at all,but it\\'s entertaining.']\n",
            "\n",
            "labels:  [0 1 1]\n"
          ]
        }
      ],
      "source": [
        "# 학습 데이터셋의 text와 label 출력해보기\n",
        "for example, label in train_dataset.take(1):\n",
        "  print('texts: ', example.numpy()[:3])\n",
        "  print()\n",
        "  print('labels: ', label.numpy()[:3])"
      ]
    },
    {
      "cell_type": "markdown",
      "source": [
        "### Encoder 구성하기 (문자열 토큰을 정수 인덱스로 변환)"
      ],
      "metadata": {
        "id": "3f2VUcwBNmnT"
      }
    },
    {
      "cell_type": "code",
      "execution_count": null,
      "metadata": {
        "id": "jVGNpR2EqIaA"
      },
      "outputs": [],
      "source": [
        "# 어휘(vocabulary) 크기 1000으로 설정하기\n",
        "VOCAB_SIZE = 1000\n",
        "\n",
        "# TextVectorization(문자열 토큰과 정수 인덱스 매핑) layer 이용하여 encoder 구성하기\n",
        "tokenizer = tf.keras.layers.TextVectorization(\n",
        "    max_tokens=VOCAB_SIZE)\n",
        "\n",
        "# 레이어의 어휘를 설정\n",
        "tokenizer.adapt(train_dataset.map(lambda text, label: text))"
      ]
    },
    {
      "cell_type": "code",
      "execution_count": null,
      "metadata": {
        "id": "8FpiSLmgqK2j",
        "colab": {
          "base_uri": "https://localhost:8080/"
        },
        "outputId": "25e38efd-319b-49a0-8c1a-b8ba9d3fd6a4"
      },
      "outputs": [
        {
          "output_type": "execute_result",
          "data": {
            "text/plain": [
              "array(['', '[UNK]', 'the', 'and', 'a', 'of', 'to', 'is', 'in', 'it', 'i',\n",
              "       'this', 'that', 'br', 'was', 'as', 'for', 'with', 'movie', 'but'],\n",
              "      dtype='<U14')"
            ]
          },
          "metadata": {},
          "execution_count": 29
        }
      ],
      "source": [
        "# vocab(토큰) 20개 보여주기\n",
        "vocab = np.array(tokenizer.get_vocabulary())\n",
        "vocab[:20]"
      ]
    },
    {
      "cell_type": "code",
      "execution_count": null,
      "metadata": {
        "id": "CeSz-A8MqMAF",
        "colab": {
          "base_uri": "https://localhost:8080/"
        },
        "outputId": "c326887b-37b8-47e0-e321-a1a1e2a5c6fe"
      },
      "outputs": [
        {
          "output_type": "execute_result",
          "data": {
            "text/plain": [
              "array([[  1,   1,   7, ...,   0,   0,   0],\n",
              "       [ 15,   4, 548, ...,   0,   0,   0],\n",
              "       [ 10, 117,  22, ...,   0,   0,   0]])"
            ]
          },
          "metadata": {},
          "execution_count": 30
        }
      ],
      "source": [
        "# 텍스트를 인덱스로 인코딩, 나머지 부분 zero padding\n",
        "tokenized_example = tokenizer(example)[:3].numpy()\n",
        "tokenized_example"
      ]
    },
    {
      "cell_type": "code",
      "execution_count": null,
      "metadata": {
        "id": "R3h21kIBqNEP",
        "colab": {
          "base_uri": "https://localhost:8080/"
        },
        "outputId": "4cd62434-38f3-46ae-de17-55097f013980"
      },
      "outputs": [
        {
          "output_type": "stream",
          "name": "stdout",
          "text": [
            "Original:  b'Admittedly, Parsifal is not an opera that can appeal to everyone, although it is a favourite of mine, Knappertsbusch, 1951, in particular. Syberberg\\'s entire approach is so static. Whenever the music suddenly begins to swell ... Syberberg keeps the cast moving at the same pace. The takes on Amfortas and Klingsor are endless. Whatever happened to film editing? The result is physically exhausting to watch. The viewer is never spiritually transported. Your impulse is to rush home and play a recording again to confirm that Wagner got it right, Syberberg got it wrong. And that set decoration with those \"clever\" reminders of Wagner\\'s anti-Semitism -- will there ever be a viewer of this film with no prior knowledge of Wagner?'\n",
            "Round-trip:  [UNK] [UNK] is not an [UNK] that can [UNK] to everyone although it is a [UNK] of [UNK] [UNK] [UNK] in particular [UNK] entire [UNK] is so [UNK] [UNK] the music [UNK] begins to [UNK] [UNK] keeps the cast moving at the same [UNK] the takes on [UNK] and [UNK] are [UNK] whatever happened to film editing the result is [UNK] [UNK] to watch the viewer is never [UNK] [UNK] your [UNK] is to [UNK] home and play a [UNK] again to [UNK] that [UNK] got it right [UNK] got it wrong and that set [UNK] with those [UNK] [UNK] of [UNK] [UNK] will there ever be a viewer of this film with no [UNK] [UNK] of [UNK]                                                                                                                                                                                                                                                                                                                                                                                                                                                                                                                                                                                                                                                                                                                                                                 \n",
            "\n",
            "Original:  b\"As a kid, I loved this game. I played it a zillion times during Spring 1993 with my friend Andrew. I used to play Axel or Blaze and he would be Adam and no matter how often we played it we never seemed to get bored. Then Streets of Rage 2 came out. And we quickly forgot that this one even existed.<br /><br />You play as ex-cops Axel Stone, Adam or Blaze Fielding, who have quit the force in order to take on the bad guys in their own way. There are 8 levels to work thru in a run-down and corrupt city led by the evil Mr X. Beating up all the bad guys and the end-of-level boss is much fun. Level 4 (The Bridge) was my fave because you could chuck baddies down the holes into the river. You even have the chance to become Mr. X's right hand man at the end of the game (at a price). This leads to the 'bad ending' in which you become the the boss of the syndicate. Exactly how this is possible is a mystery since you destroy the syndicate on your way to Mr. X, but never mind.<br /><br />Streets of Rage also has truly fantastic music. The composer Yuzo Koshiro did absolute miracles with the limited technology of the Sega Genesis. The main theme, Level One, Level 4 and Final Boss are standout tunes. <br /><br />As a Wii owner I am proud to have this forever on my console. But with Streets of Rage 2 also available, it does kind of render the first one somewhat obsolete.<br /><br />Pros:<br /><br />Average graphics but nice backgrounds represented in a comic-book like panel progression that fits the tone of the game.<br /><br />Great tunes.<br /><br />Easy to get into and hard to put down.<br /><br />Cons:<br /><br />Vastly inferior to the infinitely more complex Streets of Rage 2.<br /><br />Poor enemy AI. Baddies often walk away from you instead of engaging in combat. This is especially infuriating with the Level 5 boss.<br /><br />Lack of combo moves.<br /><br />Lack of decent weapons.<br /><br />Bad guy models are repeated far too often.<br /><br />Graphics B- Sound A- Gameplay B- Lasting Appeal B-\"\n",
            "Round-trip:  as a kid i loved this game i played it a [UNK] times during [UNK] [UNK] with my friend [UNK] i used to play [UNK] or [UNK] and he would be [UNK] and no matter how often we played it we never seemed to get [UNK] then [UNK] of [UNK] 2 came out and we quickly [UNK] that this one even [UNK] br you play as [UNK] [UNK] [UNK] [UNK] or [UNK] [UNK] who have [UNK] the [UNK] in order to take on the bad guys in their own way there are [UNK] [UNK] to work [UNK] in a [UNK] and [UNK] city [UNK] by the evil mr [UNK] [UNK] up all the bad guys and the [UNK] [UNK] is much fun level 4 the [UNK] was my [UNK] because you could [UNK] [UNK] down the [UNK] into the [UNK] you even have the chance to become mr [UNK] right hand man at the end of the game at a [UNK] this leads to the bad ending in which you become the the [UNK] of the [UNK] exactly how this is possible is a mystery since you [UNK] the [UNK] on your way to mr [UNK] but never [UNK] br [UNK] of [UNK] also has truly fantastic music the [UNK] [UNK] [UNK] did [UNK] [UNK] with the [UNK] [UNK] of the [UNK] [UNK] the main theme level one level 4 and final [UNK] are [UNK] [UNK] br br as a [UNK] [UNK] i am [UNK] to have this [UNK] on my [UNK] but with [UNK] of [UNK] 2 also [UNK] it does kind of [UNK] the first one somewhat [UNK] br [UNK] br average [UNK] but nice [UNK] [UNK] in a [UNK] like [UNK] [UNK] that [UNK] the [UNK] of the [UNK] br great [UNK] br easy to get into and hard to put [UNK] br [UNK] br [UNK] [UNK] to the [UNK] more [UNK] [UNK] of [UNK] [UNK] br poor [UNK] [UNK] [UNK] often [UNK] away from you instead of [UNK] in [UNK] this is especially [UNK] with the level 5 [UNK] br lack of [UNK] [UNK] br lack of decent [UNK] br bad guy [UNK] are [UNK] far too [UNK] br [UNK] b sound a [UNK] b [UNK] [UNK] b                                                                                                                                                                                                                                                                                                                                                                                                                                                                                                   \n",
            "\n",
            "Original:  b'I did not have too much interest in watching The Flock.Andrew Lau co-directed the masterpiece trilogy of Infernal Affairs but he had been fired from The Flock and he had been replaced by an emergency director called Niels Mueller.I had the feeling that Lau had made a good film but it had not satisfied the study,so they fired him and hired another director.This usually does not work well (let\\'s remember The Invasion).But The Flock resulted to be better than what I expected.It\\'s not a great film but it\\'s an interesting and entertaining thriller.The character development is very well done and I could know the characters very well.Also,the relationship between the two main characters is natural and credible.Richard Gere and Claire Danes bring competent performances.Now,let\\'s go to the negative points.One element which really bothered me (there was a moment in which it irritated me) was the excess of edition tricks to give the movie more \"attitude\" and style.That tricks feel out of place and their presence is arbitrary.Plus,I think the film should have been more ambitious.In spite of that,I recommend The Flock as a good thriller.It\\'s not memorable at all,but it\\'s entertaining.'\n",
            "Round-trip:  i did not have too much interest in watching the [UNK] [UNK] [UNK] the [UNK] [UNK] of [UNK] [UNK] but he had been [UNK] from the [UNK] and he had been [UNK] by an [UNK] director called [UNK] [UNK] had the feeling that [UNK] had made a good film but it had not [UNK] the [UNK] they [UNK] him and [UNK] another [UNK] usually does not work well lets remember the [UNK] the [UNK] [UNK] to be better than what i [UNK] not a great film but its an interesting and entertaining [UNK] character development is very well done and i could know the characters very [UNK] relationship between the two main characters is [UNK] and [UNK] [UNK] and [UNK] [UNK] bring [UNK] [UNK] go to the [UNK] [UNK] [UNK] which really [UNK] me there was a moment in which it [UNK] me was the [UNK] of [UNK] [UNK] to give the movie more [UNK] and [UNK] [UNK] feel out of place and their [UNK] is [UNK] think the film should have been more [UNK] [UNK] of [UNK] recommend the [UNK] as a good [UNK] not memorable at [UNK] its entertaining                                                                                                                                                                                                                                                                                                                                                                                                                                                                                                                                                                                                                                                                                        \n",
            "\n"
          ]
        }
      ],
      "source": [
        "# 원래 문장(프랑스어)과 토큰화된 문장(영어) 출력하기\n",
        "for n in range(3):\n",
        "  print(\"Original: \", example[n].numpy())\n",
        "  print(\"Round-trip: \", \" \".join(vocab[tokenized_example[n]]))\n",
        "  print()"
      ]
    },
    {
      "cell_type": "markdown",
      "source": [
        "### 모델 만들기\n",
        "1st layer. 텍스트를 인덱스로 변환\n",
        "\n",
        "2nd layer. 인덱스를 embedding vector로 변환 -> embedding table\n",
        "\n",
        "3rd layer. 문장을 앞에서부터 뒤로 살핌 (한방향으로)\n",
        "\n",
        "4th layer. Relu 연산 수행 및 classification 수행\n",
        "\n",
        "5th layer. classification 수행"
      ],
      "metadata": {
        "id": "b7pY9WdB589k"
      }
    },
    {
      "cell_type": "code",
      "execution_count": null,
      "metadata": {
        "id": "hLkoDR6wqOXC"
      },
      "outputs": [],
      "source": [
        "# 모델 구성하기\n",
        "model = tf.keras.Sequential([\n",
        "    # 첫번째 레이어 : encoder (텍스트를 인덱스로 변환)  \n",
        "    tokenizer,\n",
        "    # 두번째 레이어 : 임베딩 레이어 (인덱스를 featurre extraction과 같은 과정을 거쳐 embedding vector로 변환)\n",
        "    tf.keras.layers.Embedding(\n",
        "        input_dim=len(tokenizer.get_vocabulary()),\n",
        "        output_dim=64,\n",
        "        mask_zero=True),\n",
        "    # 세번째 레이어 : 한방향(unidirectional) RNN 레이어 -> 한쪽으로만 순차적으로 문장을 살피므로 앞의 단어가 뒤의 문맥 이용 불가하다는 문제\n",
        "    tf.keras.layers.LSTM(64),\n",
        "    # 네번째 레이어 : RELU 연산 수행하는 레이어 (classification 수행)\n",
        "    tf.keras.layers.Dense(64, activation='relu'),\n",
        "    # 다섯번째 레이어 : classification 수행\n",
        "    tf.keras.layers.Dense(1)\n",
        "])"
      ]
    },
    {
      "cell_type": "code",
      "execution_count": null,
      "metadata": {
        "id": "NVFUAbROqSCE",
        "colab": {
          "base_uri": "https://localhost:8080/"
        },
        "outputId": "07eca00b-d072-4e15-8afe-074cef34546a"
      },
      "outputs": [
        {
          "output_type": "stream",
          "name": "stdout",
          "text": [
            "[False, True, True, True, True]\n"
          ]
        }
      ],
      "source": [
        "# 각각의 레이어들이 마스킹 사용하는지 확인\n",
        "print([layer.supports_masking for layer in model.layers])"
      ]
    },
    {
      "cell_type": "code",
      "execution_count": null,
      "metadata": {
        "id": "MP_pptGXqTGH",
        "colab": {
          "base_uri": "https://localhost:8080/"
        },
        "outputId": "d2129b4d-e748-4b96-9d32-721383e65aa8"
      },
      "outputs": [
        {
          "output_type": "stream",
          "name": "stdout",
          "text": [
            "[-0.00017516]\n"
          ]
        }
      ],
      "source": [
        "# sample_text 이용하여 테스트하기\n",
        "sample_text = ('The movie was cool. The animation and the graphics '\n",
        "               'were out of this world. I would recommend this movie.')\n",
        "predictions = model.predict(np.array([sample_text]))\n",
        "print(predictions[0])"
      ]
    },
    {
      "cell_type": "code",
      "execution_count": null,
      "metadata": {
        "id": "-78BGTr4qUA1",
        "colab": {
          "base_uri": "https://localhost:8080/"
        },
        "outputId": "3caa8c5c-ce9a-4645-f2cd-493550b210da"
      },
      "outputs": [
        {
          "output_type": "stream",
          "name": "stdout",
          "text": [
            "[-0.00017515]\n"
          ]
        }
      ],
      "source": [
        "# padding 포함한 샘플 텍스트 이용하여 테스트하기\n",
        "padding = \"the \" * 2000\n",
        "predictions = model.predict(np.array([sample_text, padding]))\n",
        "\n",
        "# sample_text 뒤에 padding('the'가 여러번)이 붙어도 위의 테스트 결과와 동일\n",
        "print(predictions[0])"
      ]
    },
    {
      "cell_type": "markdown",
      "source": [
        "### 모델 컴파일하기"
      ],
      "metadata": {
        "id": "HhTUV_KkN1AM"
      }
    },
    {
      "cell_type": "code",
      "execution_count": null,
      "metadata": {
        "id": "QJw84xD9qV2O"
      },
      "outputs": [],
      "source": [
        "# 모델 컴파일하여 훈련 프로레스 구성하기\n",
        "model.compile(loss=tf.keras.losses.BinaryCrossentropy(from_logits=True),\n",
        "              optimizer=tf.keras.optimizers.Adam(1e-4),\n",
        "              metrics=['accuracy'])"
      ]
    },
    {
      "cell_type": "markdown",
      "source": [
        "### 모델 학습시키기"
      ],
      "metadata": {
        "id": "xdFqjeswN3IB"
      }
    },
    {
      "cell_type": "code",
      "execution_count": null,
      "metadata": {
        "id": "OQSRagx8qXZq",
        "colab": {
          "base_uri": "https://localhost:8080/"
        },
        "outputId": "82f16275-f87c-4924-c96e-900a4535abea"
      },
      "outputs": [
        {
          "output_type": "stream",
          "name": "stdout",
          "text": [
            "Epoch 1/10\n",
            "391/391 [==============================] - 23s 48ms/step - loss: 0.6542 - accuracy: 0.5548 - val_loss: 0.5403 - val_accuracy: 0.7073\n",
            "Epoch 2/10\n",
            "391/391 [==============================] - 18s 45ms/step - loss: 0.4393 - accuracy: 0.7854 - val_loss: 0.3854 - val_accuracy: 0.8208\n",
            "Epoch 3/10\n",
            "391/391 [==============================] - 18s 46ms/step - loss: 0.3556 - accuracy: 0.8476 - val_loss: 0.3570 - val_accuracy: 0.8521\n",
            "Epoch 4/10\n",
            "391/391 [==============================] - 19s 46ms/step - loss: 0.3307 - accuracy: 0.8623 - val_loss: 0.3409 - val_accuracy: 0.8453\n",
            "Epoch 5/10\n",
            "391/391 [==============================] - 19s 46ms/step - loss: 0.3196 - accuracy: 0.8642 - val_loss: 0.3386 - val_accuracy: 0.8536\n",
            "Epoch 6/10\n",
            "391/391 [==============================] - 18s 46ms/step - loss: 0.3136 - accuracy: 0.8695 - val_loss: 0.3293 - val_accuracy: 0.8547\n",
            "Epoch 7/10\n",
            "391/391 [==============================] - 19s 46ms/step - loss: 0.3091 - accuracy: 0.8711 - val_loss: 0.3335 - val_accuracy: 0.8557\n",
            "Epoch 8/10\n",
            "391/391 [==============================] - 19s 47ms/step - loss: 0.3088 - accuracy: 0.8722 - val_loss: 0.3268 - val_accuracy: 0.8568\n",
            "Epoch 9/10\n",
            "391/391 [==============================] - 18s 45ms/step - loss: 0.3085 - accuracy: 0.8715 - val_loss: 0.3266 - val_accuracy: 0.8604\n",
            "Epoch 10/10\n",
            "391/391 [==============================] - 19s 46ms/step - loss: 0.3038 - accuracy: 0.8739 - val_loss: 0.3248 - val_accuracy: 0.8589\n"
          ]
        }
      ],
      "source": [
        "# 모델 학습시키기 (epochs 10으로 설정)\n",
        "history = model.fit(train_dataset, epochs=10,\n",
        "                    validation_data=test_dataset,\n",
        "                    validation_steps=30)"
      ]
    },
    {
      "cell_type": "markdown",
      "source": [
        "### 테스트 데이터셋으로 테스트하기"
      ],
      "metadata": {
        "id": "KzTFdUfiN66J"
      }
    },
    {
      "cell_type": "code",
      "execution_count": null,
      "metadata": {
        "id": "OKGvrNfqqYS9",
        "colab": {
          "base_uri": "https://localhost:8080/"
        },
        "outputId": "d6d5271f-ca14-4556-cbb0-e29d33722bfb"
      },
      "outputs": [
        {
          "output_type": "stream",
          "name": "stdout",
          "text": [
            "391/391 [==============================] - 11s 29ms/step - loss: 0.3195 - accuracy: 0.8622\n",
            "Test Loss: 0.31945326924324036\n",
            "Test Accuracy: 0.8622400164604187\n"
          ]
        }
      ],
      "source": [
        "# 테스트 데이터셋으로 테스트하기\n",
        "test_loss, test_acc = model.evaluate(test_dataset)\n",
        "\n",
        "# test loss와 accuracy 출력\n",
        "print('Test Loss:', test_loss)\n",
        "print('Test Accuracy:', test_acc)"
      ]
    },
    {
      "cell_type": "markdown",
      "source": [
        "### accuracy와 loss 그래프로 나타내기"
      ],
      "metadata": {
        "id": "oxGnaflLN-4W"
      }
    },
    {
      "cell_type": "code",
      "execution_count": null,
      "metadata": {
        "id": "OA0-Rp9tqaU6",
        "colab": {
          "base_uri": "https://localhost:8080/",
          "height": 450
        },
        "outputId": "068e1ae0-d899-4b0b-eb57-bedadd6e3b93"
      },
      "outputs": [
        {
          "output_type": "execute_result",
          "data": {
            "text/plain": [
              "(0.0, 0.6716682046651841)"
            ]
          },
          "metadata": {},
          "execution_count": 39
        },
        {
          "output_type": "display_data",
          "data": {
            "text/plain": [
              "<Figure size 1152x576 with 2 Axes>"
            ],
            "image/png": "[encoded data removed]"
          },
          "metadata": {
            "needs_background": "light"
          }
        }
      ],
      "source": [
        "# accuracy와 loss 그래프로 보여주기\n",
        "plt.figure(figsize=(16, 8))\n",
        "plt.subplot(1, 2, 1)\n",
        "plot_graphs(history, 'accuracy')\n",
        "plt.ylim(None, 1)\n",
        "plt.subplot(1, 2, 2)\n",
        "plot_graphs(history, 'loss')\n",
        "plt.ylim(0, None)\n",
        "\n",
        "# 그래프로 나타낸 결과, accuracy가 overfitting 없이 잘 학습된 것을 볼 수 있음"
      ]
    },
    {
      "cell_type": "markdown",
      "source": [
        "### 테스트 결과\n",
        "테스트 결과 0.6570524로, 0.5이상이므로 positive함을 알 수 있음"
      ],
      "metadata": {
        "id": "0IgO1xEiSxAW"
      }
    },
    {
      "cell_type": "code",
      "execution_count": null,
      "metadata": {
        "id": "6OU0vn46qapS",
        "colab": {
          "base_uri": "https://localhost:8080/"
        },
        "outputId": "67c64847-bc06-4864-bf6c-4d0eca3aa976"
      },
      "outputs": [
        {
          "output_type": "stream",
          "name": "stdout",
          "text": [
            "[[0.6570524]]\n"
          ]
        }
      ],
      "source": [
        "# sample_text로 테스트하기\n",
        "sample_text = ('The movie was cool. The animation and the graphics '\n",
        "               'were out of this world. I would recommend this movie.')\n",
        "predictions = model.predict(np.array([sample_text]))\n",
        "print(predictions)\n",
        "\n",
        "# 테스트 결과 0.5이상으로, positive함"
      ]
    }
  ],
  "metadata": {
    "accelerator": "GPU",
    "colab": {
      "collapsed_sections": [],
      "name": "HW3.ipynb",
      "provenance": []
    },
    "kernelspec": {
      "display_name": "Python 3",
      "name": "python3"
    },
    "language_info": {
      "name": "python"
    }
  },
  "nbformat": 4,
  "nbformat_minor": 0
}